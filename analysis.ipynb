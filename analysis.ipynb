{
 "cells": [
  {
   "cell_type": "code",
   "execution_count": 38,
   "metadata": {},
   "outputs": [],
   "source": [
    "#Importing necessary libraries\n",
    "import numpy as np\n",
    "import pandas as pd\n",
    "import matplotlib.pyplot as plt\n",
    "import seaborn as sns\n",
    "import warnings\n",
    "from urllib.request import urlopen\n",
    "from bs4 import BeautifulSoup\n",
    "import re\n",
    "warnings.filterwarnings(\"ignore\")"
   ]
  },
  {
   "cell_type": "code",
   "execution_count": 39,
   "metadata": {},
   "outputs": [],
   "source": [
    "urls = [\"https://www.foxnews.com/politics/top-moments-tiktok-hearing-capitol-hill\",\"https://www.foxnews.com/politics/mark-zuckerberg-congressional-statement-big-tech-hearing\"]\n",
    "Strings = []\n",
    "\n",
    "for item in urls:\n",
    "\n",
    "    # Information on how to web scrape is from this link: https://realpython.com/python-web-scraping-practical-introduction/\n",
    "    url = item\n",
    "    page = urlopen(url)\n",
    "    html_bytes = page.read()\n",
    "    html = html_bytes.decode(\"utf-8\")\n",
    "\n",
    "    # I got the information for how to convert html to a string from: https://stackoverflow.com/questions/14694482/converting-html-to-text-with-python\n",
    "    soup = BeautifulSoup(html)\n",
    "    Strings.append(soup.get_text())\n"
   ]
  },
  {
   "cell_type": "code",
   "execution_count": 40,
   "metadata": {},
   "outputs": [],
   "source": [
    "#for item in Strings:\n",
    "    #Do sentiment analysis\n"
   ]
  },
  {
   "cell_type": "code",
   "execution_count": 41,
   "metadata": {},
   "outputs": [],
   "source": [
    "Titles = []\n",
    "\n",
    "for item in urls:\n",
    "\n",
    "    # Information on how to web scrape and convert title from HTML is from this link: https://realpython.com/python-web-scraping-practical-introduction/\n",
    "    url = item\n",
    "    page = urlopen(url)\n",
    "    html = page.read().decode(\"utf-8\")\n",
    "\n",
    "    pattern = \"<title.*?>.*?</title.*?>\"\n",
    "    match_results = re.search(pattern, html, re.IGNORECASE)\n",
    "    title = match_results.group()\n",
    "    title = re.sub(\"<.*?>\", \"\", title) # Remove HTML tags\n",
    "\n",
    "    Titles.append(title)"
   ]
  }
 ],
 "metadata": {
  "kernelspec": {
   "display_name": "Python 3",
   "language": "python",
   "name": "python3"
  },
  "language_info": {
   "codemirror_mode": {
    "name": "ipython",
    "version": 3
   },
   "file_extension": ".py",
   "mimetype": "text/x-python",
   "name": "python",
   "nbconvert_exporter": "python",
   "pygments_lexer": "ipython3",
   "version": "3.11.4"
  }
 },
 "nbformat": 4,
 "nbformat_minor": 2
}
